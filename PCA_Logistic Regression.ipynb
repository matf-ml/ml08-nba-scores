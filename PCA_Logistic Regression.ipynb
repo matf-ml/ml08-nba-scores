{
 "cells": [
  {
   "cell_type": "code",
   "execution_count": 1,
   "metadata": {},
   "outputs": [],
   "source": [
    "import numpy as np\n",
    "import pandas as pd\n",
    "\n",
    "from sklearn import linear_model\n",
    "from sklearn import preprocessing\n",
    "from sklearn import model_selection\n",
    "from sklearn import metrics\n",
    "from sklearn.decomposition import PCA"
   ]
  },
  {
   "cell_type": "code",
   "execution_count": 2,
   "metadata": {},
   "outputs": [],
   "source": [
    "train_data = np.array(pd.read_csv('./data/train_data.csv'))\n",
    "X_train_val = train_data[:, :-1]\n",
    "y_train_val = train_data[:, -1]\n",
    "\n",
    "test_data = np.array(pd.read_csv('./data/test_data.csv'))\n",
    "X_test = test_data[:, :-1]\n",
    "y_test = test_data[:, -1]\n",
    "\n",
    "number_of_games_in_16_17 = 1074\n",
    "\n",
    "x_train = X_train_val[:-number_of_games_in_16_17, :]\n",
    "x_validation = X_train_val[-number_of_games_in_16_17:, :]\n",
    "\n",
    "y_train = y_train_val[:-number_of_games_in_16_17]\n",
    "y_validation = y_train_val[-number_of_games_in_16_17:]"
   ]
  },
  {
   "cell_type": "code",
   "execution_count": 3,
   "metadata": {},
   "outputs": [],
   "source": [
    "scaler_tv = preprocessing.StandardScaler()\n",
    "scaler_tv.fit(x_train)\n",
    "x_train = scaler_tv.transform(x_train)\n",
    "x_validation = scaler_tv.transform(x_validation)\n",
    "\n",
    "scaler_tt = preprocessing.StandardScaler()\n",
    "scaler_tt.fit(X_train_val)\n",
    "X_train_val = scaler_tt.transform(X_train_val)\n",
    "X_test = scaler_tt.transform(X_test)"
   ]
  },
  {
   "cell_type": "code",
   "execution_count": 4,
   "metadata": {},
   "outputs": [],
   "source": [
    "Cs = np.array([10**i for i in range(-4, 4)])\n",
    "variance = np.arange(5, 10) / 10\n",
    "best_score = 0\n",
    "best_params = {'C':0, 'var':0}\n",
    "\n",
    "for var in variance:\n",
    "    x_tr = x_train\n",
    "    x_val = x_validation\n",
    "    pca = PCA(var)\n",
    "    pca.fit(x_tr)\n",
    "    x_tr = pca.transform(x_tr)\n",
    "    x_val = pca.transform(x_val)\n",
    "    for C in Cs:\n",
    "        model = linear_model.LogisticRegression(C=C, solver='lbfgs')\n",
    "        model.fit(x_tr, y_train)\n",
    "        y_predicted = model.predict(x_val)\n",
    "        score = metrics.accuracy_score(y_validation, y_predicted)\n",
    "        if score > best_score: \n",
    "            best_score = score\n",
    "            best_params['C'] = C\n",
    "            best_params['var'] = var"
   ]
  },
  {
   "cell_type": "code",
   "execution_count": 5,
   "metadata": {},
   "outputs": [
    {
     "data": {
      "text/plain": [
       "{'C': 0.1, 'var': 0.6}"
      ]
     },
     "execution_count": 5,
     "metadata": {},
     "output_type": "execute_result"
    }
   ],
   "source": [
    "best_params"
   ]
  },
  {
   "cell_type": "code",
   "execution_count": 6,
   "metadata": {},
   "outputs": [],
   "source": [
    "pca = PCA(best_params['var'])\n",
    "pca.fit(X_train_val)\n",
    "X_train_val = pca.transform(X_train_val)\n",
    "X_test = pca.transform(X_test)"
   ]
  },
  {
   "cell_type": "code",
   "execution_count": 7,
   "metadata": {},
   "outputs": [],
   "source": [
    "clf = linear_model.LogisticRegression(C=best_params['C'], solver = 'lbfgs')"
   ]
  },
  {
   "cell_type": "code",
   "execution_count": 9,
   "metadata": {},
   "outputs": [
    {
     "data": {
      "text/plain": [
       "LogisticRegression(C=0.1, class_weight=None, dual=False, fit_intercept=True,\n",
       "                   intercept_scaling=1, l1_ratio=None, max_iter=100,\n",
       "                   multi_class='warn', n_jobs=None, penalty='l2',\n",
       "                   random_state=None, solver='lbfgs', tol=0.0001, verbose=0,\n",
       "                   warm_start=False)"
      ]
     },
     "execution_count": 9,
     "metadata": {},
     "output_type": "execute_result"
    }
   ],
   "source": [
    "clf.fit(X_train_val, y_train_val)"
   ]
  },
  {
   "cell_type": "code",
   "execution_count": 10,
   "metadata": {},
   "outputs": [
    {
     "data": {
      "text/plain": [
       "0.653953488372093"
      ]
     },
     "execution_count": 10,
     "metadata": {},
     "output_type": "execute_result"
    }
   ],
   "source": [
    "y_predicted = clf.predict(X_test)\n",
    "metrics.accuracy_score(y_test, y_predicted)"
   ]
  }
 ],
 "metadata": {
  "kernelspec": {
   "display_name": "Python 3",
   "language": "python",
   "name": "python3"
  },
  "language_info": {
   "codemirror_mode": {
    "name": "ipython",
    "version": 3
   },
   "file_extension": ".py",
   "mimetype": "text/x-python",
   "name": "python",
   "nbconvert_exporter": "python",
   "pygments_lexer": "ipython3",
   "version": "3.7.3"
  }
 },
 "nbformat": 4,
 "nbformat_minor": 2
}
