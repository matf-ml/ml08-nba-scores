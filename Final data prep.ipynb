{
 "cells": [
  {
   "cell_type": "code",
   "execution_count": 1,
   "metadata": {},
   "outputs": [],
   "source": [
    "import numpy as np\n",
    "import pandas as pd"
   ]
  },
  {
   "cell_type": "code",
   "execution_count": null,
   "metadata": {},
   "outputs": [],
   "source": []
  },
  {
   "cell_type": "code",
   "execution_count": 2,
   "metadata": {},
   "outputs": [],
   "source": [
    "game_data_12_13 = pd.read_csv('./data/season_12_13_data.csv')\n",
    "game_data_13_14 = pd.read_csv('./data/season_13_14_data.csv')\n",
    "game_data_14_15 = pd.read_csv('./data/season_14_15_data.csv')\n",
    "game_data_15_16 = pd.read_csv('./data/season_15_16_data.csv')\n",
    "game_data_16_17 = pd.read_csv('./data/season_16_17_data.csv')\n",
    "game_data_17_18 = pd.read_csv('./data/season_17_18_data.csv')"
   ]
  },
  {
   "cell_type": "code",
   "execution_count": 3,
   "metadata": {},
   "outputs": [
    {
     "data": {
      "text/plain": [
       "(2458, 45)"
      ]
     },
     "execution_count": 3,
     "metadata": {},
     "output_type": "execute_result"
    }
   ],
   "source": [
    "game_data_12_13.shape"
   ]
  },
  {
   "cell_type": "code",
   "execution_count": 4,
   "metadata": {},
   "outputs": [],
   "source": [
    "#game_data_12_13.head()"
   ]
  },
  {
   "cell_type": "code",
   "execution_count": 5,
   "metadata": {},
   "outputs": [],
   "source": [
    "columns_to_drop = ['Unnamed: 0', 'gmDate', 'teamAbbr', 'opptAbbr']"
   ]
  },
  {
   "cell_type": "code",
   "execution_count": 6,
   "metadata": {},
   "outputs": [],
   "source": [
    "X_12_13 = pd.DataFrame(game_data_12_13.drop(columns=columns_to_drop))\n",
    "X_13_14 = pd.DataFrame(game_data_13_14.drop(columns=columns_to_drop))\n",
    "X_14_15 = pd.DataFrame(game_data_14_15.drop(columns=columns_to_drop))\n",
    "X_15_16 = pd.DataFrame(game_data_15_16.drop(columns=columns_to_drop))\n",
    "X_16_17 = pd.DataFrame(game_data_16_17.drop(columns=columns_to_drop))\n",
    "X_17_18 = pd.DataFrame(game_data_17_18.drop(columns=columns_to_drop))"
   ]
  },
  {
   "cell_type": "code",
   "execution_count": 7,
   "metadata": {},
   "outputs": [],
   "source": [
    "teamLoc_index = 0\n",
    "teamWin_index = 3\n",
    "teamLoss_index = 4\n",
    "opptLoc_index = 41\n",
    "opptWin_index = 44\n",
    "opptLoss_index = 45\n",
    "teamResult_index = 40\n",
    "opptResult_index = 81\n",
    "#removing games where both teams played less than n_games in current season\n",
    "def remove_games(X, n_games=10):\n",
    "    X = X[X[:, teamWin_index] + X[:, teamLoss_index] >= n_games]\n",
    "    X = X[X[:, opptWin_index] + X[:, opptLoss_index] >= n_games]\n",
    "    return X"
   ]
  },
  {
   "cell_type": "code",
   "execution_count": 8,
   "metadata": {},
   "outputs": [],
   "source": [
    "X_12_13 = np.array(X_12_13)\n",
    "m, n = X_12_13.shape\n",
    "X_12_13 = X_12_13.reshape((int(m/2), n*2))\n",
    "\n",
    "X_12_13 = remove_games(X_12_13)"
   ]
  },
  {
   "cell_type": "code",
   "execution_count": 9,
   "metadata": {},
   "outputs": [],
   "source": [
    "X_13_14 = np.array(X_13_14)\n",
    "m, n = X_13_14.shape\n",
    "X_13_14 = X_13_14.reshape((int(m/2), n*2))\n",
    "\n",
    "X_13_14 = remove_games(X_13_14)"
   ]
  },
  {
   "cell_type": "code",
   "execution_count": 10,
   "metadata": {},
   "outputs": [],
   "source": [
    "X_14_15 = np.array(X_14_15)\n",
    "m, n = X_14_15.shape\n",
    "X_14_15 = X_14_15.reshape((int(m/2), n*2))\n",
    "\n",
    "X_14_15 = remove_games(X_14_15)"
   ]
  },
  {
   "cell_type": "code",
   "execution_count": 11,
   "metadata": {},
   "outputs": [],
   "source": [
    "X_15_16 = np.array(X_15_16)\n",
    "m, n = X_15_16.shape\n",
    "X_15_16 = X_15_16.reshape((int(m/2), n*2))\n",
    "\n",
    "X_15_16 = remove_games(X_15_16)"
   ]
  },
  {
   "cell_type": "code",
   "execution_count": 12,
   "metadata": {},
   "outputs": [],
   "source": [
    "X_16_17 = np.array(X_16_17)\n",
    "m, n = X_16_17.shape\n",
    "X_16_17 = X_16_17.reshape((int(m/2), n*2))\n",
    "\n",
    "X_16_17 = remove_games(X_16_17)"
   ]
  },
  {
   "cell_type": "code",
   "execution_count": 13,
   "metadata": {},
   "outputs": [],
   "source": [
    "X_17_18 = np.array(X_17_18)\n",
    "m, n = X_17_18.shape\n",
    "X_17_18 = X_17_18.reshape((int(m/2), n*2))\n",
    "\n",
    "X_17_18 = remove_games(X_17_18)"
   ]
  },
  {
   "cell_type": "code",
   "execution_count": null,
   "metadata": {},
   "outputs": [],
   "source": []
  },
  {
   "cell_type": "code",
   "execution_count": 14,
   "metadata": {},
   "outputs": [],
   "source": [
    "#result of the home team, where win - 1 loss - 0"
   ]
  },
  {
   "cell_type": "code",
   "execution_count": 15,
   "metadata": {},
   "outputs": [],
   "source": [
    "X_12_13 = np.delete(X_12_13, [teamResult_index], 1)\n",
    "X_13_14 = np.delete(X_13_14, [teamResult_index], 1)\n",
    "X_14_15 = np.delete(X_14_15, [teamResult_index], 1)\n",
    "X_15_16 = np.delete(X_15_16, [teamResult_index], 1)\n",
    "X_16_17 = np.delete(X_16_17, [teamResult_index], 1)\n",
    "X_17_18 = np.delete(X_17_18, [teamResult_index], 1)"
   ]
  },
  {
   "cell_type": "code",
   "execution_count": 16,
   "metadata": {},
   "outputs": [
    {
     "name": "stdout",
     "output_type": "stream",
     "text": [
      "(1072, 81)\n",
      "(1074, 81)\n",
      "(1072, 81)\n",
      "(1073, 81)\n",
      "(1074, 81)\n",
      "(1075, 81)\n"
     ]
    }
   ],
   "source": [
    "print(X_12_13.shape)\n",
    "print(X_13_14.shape)\n",
    "print(X_14_15.shape)\n",
    "print(X_15_16.shape)\n",
    "print(X_16_17.shape)\n",
    "print(X_17_18.shape)"
   ]
  },
  {
   "cell_type": "code",
   "execution_count": null,
   "metadata": {},
   "outputs": [],
   "source": []
  },
  {
   "cell_type": "code",
   "execution_count": 20,
   "metadata": {},
   "outputs": [],
   "source": [
    "train_data = np.vstack([X_12_13, X_13_14, X_14_15, X_15_16, X_16_17])"
   ]
  },
  {
   "cell_type": "code",
   "execution_count": 21,
   "metadata": {},
   "outputs": [
    {
     "data": {
      "text/plain": [
       "(5365, 81)"
      ]
     },
     "execution_count": 21,
     "metadata": {},
     "output_type": "execute_result"
    }
   ],
   "source": [
    "train_data.shape"
   ]
  },
  {
   "cell_type": "code",
   "execution_count": 22,
   "metadata": {},
   "outputs": [],
   "source": [
    "test_data = X_17_18"
   ]
  },
  {
   "cell_type": "code",
   "execution_count": 23,
   "metadata": {},
   "outputs": [
    {
     "data": {
      "text/plain": [
       "(1075, 81)"
      ]
     },
     "execution_count": 23,
     "metadata": {},
     "output_type": "execute_result"
    }
   ],
   "source": [
    "test_data.shape"
   ]
  },
  {
   "cell_type": "code",
   "execution_count": 30,
   "metadata": {},
   "outputs": [],
   "source": [
    "pd.DataFrame(train_data).to_csv('data/train_data.csv', index=None)"
   ]
  },
  {
   "cell_type": "code",
   "execution_count": 31,
   "metadata": {},
   "outputs": [],
   "source": [
    "pd.DataFrame(test_data).to_csv('data/test_data.csv', index=None)"
   ]
  },
  {
   "cell_type": "code",
   "execution_count": null,
   "metadata": {},
   "outputs": [],
   "source": []
  }
 ],
 "metadata": {
  "kernelspec": {
   "display_name": "Python 3",
   "language": "python",
   "name": "python3"
  },
  "language_info": {
   "codemirror_mode": {
    "name": "ipython",
    "version": 3
   },
   "file_extension": ".py",
   "mimetype": "text/x-python",
   "name": "python",
   "nbconvert_exporter": "python",
   "pygments_lexer": "ipython3",
   "version": "3.7.3"
  }
 },
 "nbformat": 4,
 "nbformat_minor": 2
}
