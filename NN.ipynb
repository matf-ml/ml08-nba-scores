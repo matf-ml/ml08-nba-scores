{
 "cells": [
  {
   "cell_type": "code",
   "execution_count": 1,
   "metadata": {},
   "outputs": [
    {
     "name": "stderr",
     "output_type": "stream",
     "text": [
      "Using TensorFlow backend.\n"
     ]
    }
   ],
   "source": [
    "from keras.models import Sequential\n",
    "from keras.layers import Dense, Activation\n",
    "from keras import losses, optimizers"
   ]
  },
  {
   "cell_type": "code",
   "execution_count": 2,
   "metadata": {},
   "outputs": [],
   "source": [
    "import numpy as np\n",
    "import pandas as pd\n",
    "import matplotlib.pyplot as plt\n",
    "from sklearn import preprocessing"
   ]
  },
  {
   "cell_type": "code",
   "execution_count": 3,
   "metadata": {},
   "outputs": [],
   "source": [
    "train_data = np.array(pd.read_csv('./data/train_data.csv'))\n",
    "X_train_val = train_data[:, :-1]\n",
    "y_train_val = train_data[:, -1]\n",
    "\n",
    "test_data = np.array(pd.read_csv('./data/test_data.csv'))\n",
    "X_test = test_data[:, :-1]\n",
    "y_test = test_data[:, -1]\n",
    "\n",
    "number_of_games_in_16_17 = 1074\n",
    "\n",
    "x_train = X_train_val[:-number_of_games_in_16_17, :]\n",
    "x_validation = X_train_val[-number_of_games_in_16_17:, :]\n",
    "\n",
    "y_train = y_train_val[:-number_of_games_in_16_17]\n",
    "y_validation = y_train_val[-number_of_games_in_16_17:]"
   ]
  },
  {
   "cell_type": "code",
   "execution_count": 4,
   "metadata": {},
   "outputs": [],
   "source": [
    "scaler_tv = preprocessing.StandardScaler()\n",
    "scaler_tv.fit(x_train)\n",
    "x_train = scaler_tv.transform(x_train)\n",
    "x_validation = scaler_tv.transform(x_validation)\n",
    "\n",
    "scaler_tt = preprocessing.StandardScaler()\n",
    "scaler_tt.fit(X_train_val)\n",
    "X_train_val = scaler_tt.transform(X_train_val)\n",
    "X_test = scaler_tt.transform(X_test)"
   ]
  },
  {
   "cell_type": "code",
   "execution_count": 5,
   "metadata": {},
   "outputs": [],
   "source": [
    "number_of_features = x_train.shape[1]\n",
    "output_size = 1"
   ]
  },
  {
   "cell_type": "code",
   "execution_count": 6,
   "metadata": {},
   "outputs": [],
   "source": [
    "model = Sequential()"
   ]
  },
  {
   "cell_type": "code",
   "execution_count": 7,
   "metadata": {},
   "outputs": [
    {
     "name": "stdout",
     "output_type": "stream",
     "text": [
      "WARNING:tensorflow:From /home/pavle/anaconda3/envs/ml/lib/python3.7/site-packages/tensorflow/python/framework/op_def_library.py:263: colocate_with (from tensorflow.python.framework.ops) is deprecated and will be removed in a future version.\n",
      "Instructions for updating:\n",
      "Colocations handled automatically by placer.\n"
     ]
    }
   ],
   "source": [
    "model.add(Dense(units=20, input_dim=number_of_features, activation='relu'))"
   ]
  },
  {
   "cell_type": "code",
   "execution_count": 8,
   "metadata": {},
   "outputs": [],
   "source": [
    "model.add(Dense(units=10, activation='relu'))"
   ]
  },
  {
   "cell_type": "code",
   "execution_count": 9,
   "metadata": {},
   "outputs": [],
   "source": [
    "model.add(Dense(units=output_size, activation='sigmoid'))"
   ]
  },
  {
   "cell_type": "code",
   "execution_count": 10,
   "metadata": {},
   "outputs": [],
   "source": [
    "model.compile(optimizer='adam', loss=losses.binary_crossentropy, metrics=['accuracy'])"
   ]
  },
  {
   "cell_type": "code",
   "execution_count": 11,
   "metadata": {
    "scrolled": true
   },
   "outputs": [
    {
     "name": "stdout",
     "output_type": "stream",
     "text": [
      "_________________________________________________________________\n",
      "Layer (type)                 Output Shape              Param #   \n",
      "=================================================================\n",
      "dense_1 (Dense)              (None, 20)                1620      \n",
      "_________________________________________________________________\n",
      "dense_2 (Dense)              (None, 10)                210       \n",
      "_________________________________________________________________\n",
      "dense_3 (Dense)              (None, 1)                 11        \n",
      "=================================================================\n",
      "Total params: 1,841\n",
      "Trainable params: 1,841\n",
      "Non-trainable params: 0\n",
      "_________________________________________________________________\n"
     ]
    }
   ],
   "source": [
    "model.summary()"
   ]
  },
  {
   "cell_type": "code",
   "execution_count": 12,
   "metadata": {},
   "outputs": [],
   "source": [
    "epochs = 30\n",
    "batch_size = 16\n",
    "verbose = 1"
   ]
  },
  {
   "cell_type": "code",
   "execution_count": 13,
   "metadata": {},
   "outputs": [
    {
     "name": "stdout",
     "output_type": "stream",
     "text": [
      "WARNING:tensorflow:From /home/pavle/anaconda3/envs/ml/lib/python3.7/site-packages/tensorflow/python/ops/math_ops.py:3066: to_int32 (from tensorflow.python.ops.math_ops) is deprecated and will be removed in a future version.\n",
      "Instructions for updating:\n",
      "Use tf.cast instead.\n",
      "Train on 4291 samples, validate on 1074 samples\n",
      "Epoch 1/30\n",
      "4291/4291 [==============================] - 1s 235us/step - loss: 0.6544 - acc: 0.6236 - val_loss: 0.6494 - val_acc: 0.6173\n",
      "Epoch 2/30\n",
      "4291/4291 [==============================] - 1s 165us/step - loss: 0.6006 - acc: 0.6761 - val_loss: 0.6518 - val_acc: 0.6220\n",
      "Epoch 3/30\n",
      "4291/4291 [==============================] - 1s 127us/step - loss: 0.5861 - acc: 0.6905 - val_loss: 0.6548 - val_acc: 0.6276\n",
      "Epoch 4/30\n",
      "4291/4291 [==============================] - 1s 127us/step - loss: 0.5779 - acc: 0.6938 - val_loss: 0.6544 - val_acc: 0.6238\n",
      "Epoch 5/30\n",
      "4291/4291 [==============================] - 1s 133us/step - loss: 0.5705 - acc: 0.6998 - val_loss: 0.6615 - val_acc: 0.6164\n",
      "Epoch 6/30\n",
      "4291/4291 [==============================] - 1s 132us/step - loss: 0.5648 - acc: 0.7017 - val_loss: 0.6644 - val_acc: 0.6229\n",
      "Epoch 7/30\n",
      "4291/4291 [==============================] - 1s 135us/step - loss: 0.5589 - acc: 0.7099 - val_loss: 0.6720 - val_acc: 0.6210\n",
      "Epoch 8/30\n",
      "4291/4291 [==============================] - 1s 124us/step - loss: 0.5540 - acc: 0.7166 - val_loss: 0.6704 - val_acc: 0.6164\n",
      "Epoch 9/30\n",
      "4291/4291 [==============================] - 1s 131us/step - loss: 0.5485 - acc: 0.7210 - val_loss: 0.6662 - val_acc: 0.6127\n",
      "Epoch 10/30\n",
      "4291/4291 [==============================] - 1s 136us/step - loss: 0.5435 - acc: 0.7299 - val_loss: 0.6756 - val_acc: 0.6155\n",
      "Epoch 11/30\n",
      "4291/4291 [==============================] - 1s 129us/step - loss: 0.5400 - acc: 0.7301 - val_loss: 0.6881 - val_acc: 0.6145\n",
      "Epoch 12/30\n",
      "4291/4291 [==============================] - 1s 137us/step - loss: 0.5375 - acc: 0.7348 - val_loss: 0.6923 - val_acc: 0.6164\n",
      "Epoch 13/30\n",
      "4291/4291 [==============================] - 1s 135us/step - loss: 0.5318 - acc: 0.7381 - val_loss: 0.7014 - val_acc: 0.6136\n",
      "Epoch 14/30\n",
      "4291/4291 [==============================] - 1s 135us/step - loss: 0.5283 - acc: 0.7390 - val_loss: 0.6962 - val_acc: 0.6201\n",
      "Epoch 15/30\n",
      "4291/4291 [==============================] - 1s 136us/step - loss: 0.5239 - acc: 0.7448 - val_loss: 0.6959 - val_acc: 0.6080\n",
      "Epoch 16/30\n",
      "4291/4291 [==============================] - 1s 137us/step - loss: 0.5209 - acc: 0.7441 - val_loss: 0.7085 - val_acc: 0.6071\n",
      "Epoch 17/30\n",
      "4291/4291 [==============================] - 1s 188us/step - loss: 0.5166 - acc: 0.7488 - val_loss: 0.7092 - val_acc: 0.6173\n",
      "Epoch 18/30\n",
      "4291/4291 [==============================] - 1s 155us/step - loss: 0.5126 - acc: 0.7497 - val_loss: 0.7200 - val_acc: 0.6136\n",
      "Epoch 19/30\n",
      "4291/4291 [==============================] - 1s 153us/step - loss: 0.5095 - acc: 0.7502 - val_loss: 0.7126 - val_acc: 0.6080\n",
      "Epoch 20/30\n",
      "4291/4291 [==============================] - 1s 168us/step - loss: 0.5069 - acc: 0.7537 - val_loss: 0.7187 - val_acc: 0.6136\n",
      "Epoch 21/30\n",
      "4291/4291 [==============================] - 1s 177us/step - loss: 0.5049 - acc: 0.7569 - val_loss: 0.7107 - val_acc: 0.6006\n",
      "Epoch 22/30\n",
      "4291/4291 [==============================] - 1s 129us/step - loss: 0.5007 - acc: 0.7558 - val_loss: 0.7230 - val_acc: 0.5950\n",
      "Epoch 23/30\n",
      "4291/4291 [==============================] - 1s 134us/step - loss: 0.4976 - acc: 0.7569 - val_loss: 0.7321 - val_acc: 0.5987\n",
      "Epoch 24/30\n",
      "4291/4291 [==============================] - 1s 133us/step - loss: 0.4935 - acc: 0.7607 - val_loss: 0.7371 - val_acc: 0.5922\n",
      "Epoch 25/30\n",
      "4291/4291 [==============================] - 1s 133us/step - loss: 0.4927 - acc: 0.7579 - val_loss: 0.7382 - val_acc: 0.5838\n",
      "Epoch 26/30\n",
      "4291/4291 [==============================] - 1s 172us/step - loss: 0.4876 - acc: 0.7667 - val_loss: 0.7457 - val_acc: 0.5959\n",
      "Epoch 27/30\n",
      "4291/4291 [==============================] - 1s 144us/step - loss: 0.4852 - acc: 0.7681 - val_loss: 0.7406 - val_acc: 0.5950\n",
      "Epoch 28/30\n",
      "4291/4291 [==============================] - 1s 136us/step - loss: 0.4841 - acc: 0.7707 - val_loss: 0.7502 - val_acc: 0.5847\n",
      "Epoch 29/30\n",
      "4291/4291 [==============================] - 1s 136us/step - loss: 0.4809 - acc: 0.7707 - val_loss: 0.7617 - val_acc: 0.5782\n",
      "Epoch 30/30\n",
      "4291/4291 [==============================] - 1s 133us/step - loss: 0.4785 - acc: 0.7695 - val_loss: 0.7734 - val_acc: 0.5773\n"
     ]
    }
   ],
   "source": [
    "history = model.fit(x_train, y_train, epochs=epochs, batch_size=batch_size, verbose=verbose, validation_data=(x_validation, y_validation))"
   ]
  },
  {
   "cell_type": "code",
   "execution_count": 14,
   "metadata": {},
   "outputs": [],
   "source": [
    "epochs = history.epoch"
   ]
  },
  {
   "cell_type": "code",
   "execution_count": 15,
   "metadata": {},
   "outputs": [],
   "source": [
    "loss = history.history['loss']\n",
    "validation_loss = history.history['val_loss']"
   ]
  },
  {
   "cell_type": "code",
   "execution_count": 16,
   "metadata": {},
   "outputs": [
    {
     "data": {
      "image/png": "[encoded data removed]",
      "text/plain": [
       "<Figure size 432x288 with 1 Axes>"
      ]
     },
     "metadata": {
      "needs_background": "light"
     },
     "output_type": "display_data"
    }
   ],
   "source": [
    "plt.xlabel('epochs')\n",
    "plt.ylabel('loss')\n",
    "plt.plot(epochs, loss, c='red', label='training')\n",
    "plt.plot(epochs, validation_loss, c='blue', label='validation')\n",
    "plt.legend(loc='best')\n",
    "plt.show()"
   ]
  },
  {
   "cell_type": "code",
   "execution_count": 17,
   "metadata": {},
   "outputs": [],
   "source": [
    "acc = history.history['acc']\n",
    "validation_acc = history.history['val_acc']"
   ]
  },
  {
   "cell_type": "code",
   "execution_count": 18,
   "metadata": {},
   "outputs": [
    {
     "data": {
      "image/png": "[encoded data removed]",
      "text/plain": [
       "<Figure size 432x288 with 1 Axes>"
      ]
     },
     "metadata": {
      "needs_background": "light"
     },
     "output_type": "display_data"
    }
   ],
   "source": [
    "plt.xlabel('epochs')\n",
    "plt.ylabel('acc')\n",
    "plt.plot(epochs, acc, c='red', label='training')\n",
    "plt.plot(epochs, validation_acc, c='blue', label='validation')\n",
    "plt.legend(loc='best')\n",
    "plt.show()"
   ]
  },
  {
   "cell_type": "code",
   "execution_count": 19,
   "metadata": {},
   "outputs": [
    {
     "name": "stdout",
     "output_type": "stream",
     "text": [
      "1075/1075 [==============================] - 0s 41us/step\n"
     ]
    }
   ],
   "source": [
    "test_loss, test_acc = model.evaluate(X_test, y_test)"
   ]
  },
  {
   "cell_type": "code",
   "execution_count": 20,
   "metadata": {},
   "outputs": [
    {
     "data": {
      "text/plain": [
       "0.7150540219905764"
      ]
     },
     "execution_count": 20,
     "metadata": {},
     "output_type": "execute_result"
    }
   ],
   "source": [
    "test_loss"
   ]
  },
  {
   "cell_type": "code",
   "execution_count": 21,
   "metadata": {},
   "outputs": [
    {
     "data": {
      "text/plain": [
       "0.6297674417772958"
      ]
     },
     "execution_count": 21,
     "metadata": {},
     "output_type": "execute_result"
    }
   ],
   "source": [
    "test_acc"
   ]
  },
  {
   "cell_type": "code",
   "execution_count": null,
   "metadata": {},
   "outputs": [],
   "source": []
  }
 ],
 "metadata": {
  "kernelspec": {
   "display_name": "Python 3",
   "language": "python",
   "name": "python3"
  },
  "language_info": {
   "codemirror_mode": {
    "name": "ipython",
    "version": 3
   },
   "file_extension": ".py",
   "mimetype": "text/x-python",
   "name": "python",
   "nbconvert_exporter": "python",
   "pygments_lexer": "ipython3",
   "version": "3.7.3"
  }
 },
 "nbformat": 4,
 "nbformat_minor": 2
}
