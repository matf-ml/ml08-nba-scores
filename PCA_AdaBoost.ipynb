{
 "cells": [
  {
   "cell_type": "code",
   "execution_count": 1,
   "metadata": {},
   "outputs": [
    {
     "name": "stderr",
     "output_type": "stream",
     "text": [
      "/home/pavle/anaconda3/envs/ml/lib/python3.7/importlib/_bootstrap.py:219: RuntimeWarning: numpy.ufunc size changed, may indicate binary incompatibility. Expected 192 from C header, got 216 from PyObject\n",
      "  return f(*args, **kwds)\n",
      "/home/pavle/anaconda3/envs/ml/lib/python3.7/importlib/_bootstrap.py:219: RuntimeWarning: numpy.ufunc size changed, may indicate binary incompatibility. Expected 192 from C header, got 216 from PyObject\n",
      "  return f(*args, **kwds)\n",
      "/home/pavle/anaconda3/envs/ml/lib/python3.7/importlib/_bootstrap.py:219: RuntimeWarning: numpy.ufunc size changed, may indicate binary incompatibility. Expected 192 from C header, got 216 from PyObject\n",
      "  return f(*args, **kwds)\n"
     ]
    }
   ],
   "source": [
    "import numpy as np\n",
    "import pandas as pd\n",
    "\n",
    "from sklearn import tree\n",
    "from sklearn import preprocessing\n",
    "from sklearn import model_selection\n",
    "from sklearn import metrics\n",
    "from sklearn import ensemble\n",
    "from sklearn.decomposition import PCA"
   ]
  },
  {
   "cell_type": "code",
   "execution_count": 2,
   "metadata": {},
   "outputs": [],
   "source": [
    "train_data = np.array(pd.read_csv('./data/train_data.csv'))\n",
    "X_train_val = train_data[:, :-1]\n",
    "y_train_val = train_data[:, -1]\n",
    "\n",
    "test_data = np.array(pd.read_csv('./data/test_data.csv'))\n",
    "X_test = test_data[:, :-1]\n",
    "y_test = test_data[:, -1]\n",
    "\n",
    "number_of_games_in_16_17 = 1074\n",
    "\n",
    "x_train = X_train_val[:-number_of_games_in_16_17, :]\n",
    "x_validation = X_train_val[-number_of_games_in_16_17:, :]\n",
    "\n",
    "y_train = y_train_val[:-number_of_games_in_16_17]\n",
    "y_validation = y_train_val[-number_of_games_in_16_17:]"
   ]
  },
  {
   "cell_type": "code",
   "execution_count": 3,
   "metadata": {},
   "outputs": [],
   "source": [
    "scaler_tv = preprocessing.StandardScaler()\n",
    "scaler_tv.fit(x_train)\n",
    "x_train = scaler_tv.transform(x_train)\n",
    "x_validation = scaler_tv.transform(x_validation)\n",
    "\n",
    "scaler_tt = preprocessing.StandardScaler()\n",
    "scaler_tt.fit(X_train_val)\n",
    "X_train_val = scaler_tt.transform(X_train_val)\n",
    "X_test = scaler_tt.transform(X_test)"
   ]
  },
  {
   "cell_type": "code",
   "execution_count": 4,
   "metadata": {},
   "outputs": [],
   "source": [
    "estimators = [10, 15, 20, 25, 30, 40, 50]\n",
    "depths = [2, 3, 5]\n",
    "variance = np.arange(5, 10) / 10\n",
    "best_score = 0\n",
    "best_params = {'n_estimators': 0, 'max_depth': 0, 'var':0}\n",
    "for var in variance:\n",
    "    x_tr = x_train\n",
    "    x_val = x_validation\n",
    "    pca = PCA(var)\n",
    "    pca.fit(x_tr)\n",
    "    x_tr = pca.transform(x_tr)\n",
    "    x_val = pca.transform(x_val)\n",
    "    for n_estimators in estimators:\n",
    "        for depth in depths:\n",
    "            clf = ensemble.AdaBoostClassifier(tree.DecisionTreeClassifier(max_depth=depth),\n",
    "                                              algorithm=\"SAMME\", n_estimators=n_estimators, random_state=7)\n",
    "            clf.fit(x_tr, y_train)\n",
    "            y_predicted = clf.predict(x_val)\n",
    "            score = metrics.accuracy_score(y_validation, y_predicted)\n",
    "            if score > best_score: \n",
    "                best_score = score\n",
    "                best_params['n_estimators'] = n_estimators\n",
    "                best_params['max_depth'] = depth\n",
    "                best_params['var'] = var"
   ]
  },
  {
   "cell_type": "code",
   "execution_count": 5,
   "metadata": {},
   "outputs": [
    {
     "data": {
      "text/plain": [
       "{'n_estimators': 15, 'max_depth': 3, 'var': 0.9}"
      ]
     },
     "execution_count": 5,
     "metadata": {},
     "output_type": "execute_result"
    }
   ],
   "source": [
    "best_params"
   ]
  },
  {
   "cell_type": "code",
   "execution_count": 6,
   "metadata": {},
   "outputs": [],
   "source": [
    "pca = PCA(best_params['var'])\n",
    "pca.fit(X_train_val)\n",
    "X_train_val = pca.transform(X_train_val)\n",
    "X_test = pca.transform(X_test)"
   ]
  },
  {
   "cell_type": "code",
   "execution_count": 7,
   "metadata": {},
   "outputs": [],
   "source": [
    "clf = ensemble.AdaBoostClassifier(tree.DecisionTreeClassifier(max_depth=best_params['max_depth']),\n",
    "                                 algorithm=\"SAMME\", n_estimators=best_params['n_estimators'], random_state=7)"
   ]
  },
  {
   "cell_type": "code",
   "execution_count": 8,
   "metadata": {},
   "outputs": [
    {
     "data": {
      "text/plain": [
       "0.6465116279069767"
      ]
     },
     "execution_count": 8,
     "metadata": {},
     "output_type": "execute_result"
    }
   ],
   "source": [
    "clf.fit(X_train_val, y_train_val)\n",
    "y_predicted = clf.predict(X_test)\n",
    "metrics.accuracy_score(y_test, y_predicted)"
   ]
  },
  {
   "cell_type": "code",
   "execution_count": null,
   "metadata": {},
   "outputs": [],
   "source": []
  }
 ],
 "metadata": {
  "kernelspec": {
   "display_name": "Python 3",
   "language": "python",
   "name": "python3"
  },
  "language_info": {
   "codemirror_mode": {
    "name": "ipython",
    "version": 3
   },
   "file_extension": ".py",
   "mimetype": "text/x-python",
   "name": "python",
   "nbconvert_exporter": "python",
   "pygments_lexer": "ipython3",
   "version": "3.7.3"
  }
 },
 "nbformat": 4,
 "nbformat_minor": 2
}
