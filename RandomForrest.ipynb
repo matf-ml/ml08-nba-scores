{
 "cells": [
  {
   "cell_type": "code",
   "execution_count": 1,
   "metadata": {},
   "outputs": [],
   "source": [
    "import numpy as np\n",
    "import pandas as pd\n",
    "\n",
    "from sklearn import preprocessing\n",
    "from sklearn import model_selection\n",
    "from sklearn import metrics\n",
    "from sklearn import ensemble"
   ]
  },
  {
   "cell_type": "code",
   "execution_count": 2,
   "metadata": {},
   "outputs": [],
   "source": [
    "train_data = np.array(pd.read_csv('./data/train_data.csv'))\n",
    "X_train_val = train_data[:, :-1]\n",
    "y_train_val = train_data[:, -1]"
   ]
  },
  {
   "cell_type": "code",
   "execution_count": 3,
   "metadata": {},
   "outputs": [],
   "source": [
    "test_data = np.array(pd.read_csv('./data/test_data.csv'))\n",
    "X_test = test_data[:, :-1]\n",
    "y_test = test_data[:, -1]"
   ]
  },
  {
   "cell_type": "code",
   "execution_count": 4,
   "metadata": {},
   "outputs": [],
   "source": [
    "number_of_games_in_16_17 = 1074"
   ]
  },
  {
   "cell_type": "code",
   "execution_count": 5,
   "metadata": {},
   "outputs": [],
   "source": [
    "x_train = X_train_val[:-number_of_games_in_16_17, :]\n",
    "x_validation = X_train_val[-number_of_games_in_16_17:, :]"
   ]
  },
  {
   "cell_type": "code",
   "execution_count": 6,
   "metadata": {},
   "outputs": [],
   "source": [
    "y_train = y_train_val[:-number_of_games_in_16_17]\n",
    "y_validation = y_train_val[-number_of_games_in_16_17:]"
   ]
  },
  {
   "cell_type": "code",
   "execution_count": 7,
   "metadata": {},
   "outputs": [],
   "source": [
    "scaler_tv = preprocessing.StandardScaler()\n",
    "scaler_tv.fit(x_train)\n",
    "x_train = scaler_tv.transform(x_train)\n",
    "x_validation = scaler_tv.transform(x_validation)"
   ]
  },
  {
   "cell_type": "code",
   "execution_count": 8,
   "metadata": {},
   "outputs": [],
   "source": [
    "scaler_tt = preprocessing.StandardScaler()\n",
    "scaler_tt.fit(X_train_val)\n",
    "X_train_val = scaler_tt.transform(X_train_val)\n",
    "X_test = scaler_tt.transform(X_test)"
   ]
  },
  {
   "cell_type": "markdown",
   "metadata": {},
   "source": [
    "### Random forrest"
   ]
  },
  {
   "cell_type": "code",
   "execution_count": 19,
   "metadata": {},
   "outputs": [],
   "source": [
    "estimators = [20, 30, 40, 50, 60, 70]\n",
    "depths = [2, 3, 5, 8, 13]\n",
    "best_score = 0\n",
    "best_params = {'n_estimators': 0, 'max_depth': 0}\n",
    "for n_estimators in estimators:\n",
    "    for depth in depths:\n",
    "        clf = ensemble.RandomForestClassifier(n_estimators=n_estimators, max_depth=depth, random_state=7)\n",
    "        clf.fit(x_train, y_train)\n",
    "        y_predicted = clf.predict(x_validation)\n",
    "        score = metrics.accuracy_score(y_validation, y_predicted)\n",
    "        if score > best_score: \n",
    "            best_score = score\n",
    "            best_params['n_estimators'] = n_estimators\n",
    "            best_params['max_depth'] = depth"
   ]
  },
  {
   "cell_type": "code",
   "execution_count": 20,
   "metadata": {},
   "outputs": [
    {
     "data": {
      "text/plain": [
       "0.633147113594041"
      ]
     },
     "execution_count": 20,
     "metadata": {},
     "output_type": "execute_result"
    }
   ],
   "source": [
    "best_score"
   ]
  },
  {
   "cell_type": "code",
   "execution_count": 21,
   "metadata": {},
   "outputs": [
    {
     "data": {
      "text/plain": [
       "0.6502325581395348"
      ]
     },
     "execution_count": 21,
     "metadata": {},
     "output_type": "execute_result"
    }
   ],
   "source": [
    "clf = ensemble.RandomForestClassifier(n_estimators=best_params['n_estimators'], max_depth=best_params['max_depth'], random_state=7)\n",
    "\n",
    "clf.fit(X_train_val, y_train_val)\n",
    "\n",
    "y_predicted = clf.predict(X_test)\n",
    "\n",
    "metrics.accuracy_score(y_test, y_predicted)"
   ]
  },
  {
   "cell_type": "code",
   "execution_count": 22,
   "metadata": {},
   "outputs": [
    {
     "data": {
      "text/plain": [
       "{'n_estimators': 50, 'max_depth': 8}"
      ]
     },
     "execution_count": 22,
     "metadata": {},
     "output_type": "execute_result"
    }
   ],
   "source": [
    "best_params"
   ]
  },
  {
   "cell_type": "code",
   "execution_count": 23,
   "metadata": {},
   "outputs": [
    {
     "data": {
      "text/plain": [
       "0.8272134203168686"
      ]
     },
     "execution_count": 23,
     "metadata": {},
     "output_type": "execute_result"
    }
   ],
   "source": [
    "y_pred_train = clf.predict(X_train_val)\n",
    "metrics.accuracy_score(y_train_val, y_pred_train)"
   ]
  },
  {
   "cell_type": "code",
   "execution_count": null,
   "metadata": {},
   "outputs": [],
   "source": []
  }
 ],
 "metadata": {
  "kernelspec": {
   "display_name": "Python 3",
   "language": "python",
   "name": "python3"
  },
  "language_info": {
   "codemirror_mode": {
    "name": "ipython",
    "version": 3
   },
   "file_extension": ".py",
   "mimetype": "text/x-python",
   "name": "python",
   "nbconvert_exporter": "python",
   "pygments_lexer": "ipython3",
   "version": "3.7.3"
  }
 },
 "nbformat": 4,
 "nbformat_minor": 2
}
